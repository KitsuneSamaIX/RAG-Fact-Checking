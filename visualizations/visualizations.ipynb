{
 "cells": [
  {
   "cell_type": "markdown",
   "id": "fe74be4a1ef34e71",
   "metadata": {},
   "source": [
    "**Imports**"
   ]
  },
  {
   "cell_type": "code",
   "id": "38f8e906293ce220",
   "metadata": {},
   "source": [
    "import matplotlib as mpl\n",
    "import matplotlib.pyplot as plt\n",
    "\n",
    "import seaborn as sns"
   ],
   "outputs": [],
   "execution_count": null
  },
  {
   "metadata": {},
   "cell_type": "markdown",
   "source": "**Load data**",
   "id": "65faefa28c631317"
  },
  {
   "cell_type": "code",
   "id": "c3c73b536e77fc3",
   "metadata": {},
   "source": "df = sns.load_dataset(\"penguins\")",
   "outputs": [],
   "execution_count": null
  },
  {
   "cell_type": "markdown",
   "id": "7f095b9465e98bad",
   "metadata": {},
   "source": "**Visualize data**"
  },
  {
   "metadata": {},
   "cell_type": "code",
   "source": "sns.pairplot(df, hue=\"species\")",
   "id": "2693c8b8a100a44b",
   "outputs": [],
   "execution_count": null
  }
 ],
 "metadata": {
  "kernelspec": {
   "display_name": "Python 3 (ipykernel)",
   "language": "python",
   "name": "python3"
  },
  "language_info": {
   "codemirror_mode": {
    "name": "ipython",
    "version": 3
   },
   "file_extension": ".py",
   "mimetype": "text/x-python",
   "name": "python",
   "nbconvert_exporter": "python",
   "pygments_lexer": "ipython3",
   "version": "3.12.3"
  }
 },
 "nbformat": 4,
 "nbformat_minor": 5
}
