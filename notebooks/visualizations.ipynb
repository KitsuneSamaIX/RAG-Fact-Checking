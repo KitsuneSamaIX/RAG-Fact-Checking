{
 "cells": [
  {
   "metadata": {},
   "cell_type": "markdown",
   "source": "## Config",
   "id": "388f9600325c0188"
  },
  {
   "metadata": {},
   "cell_type": "code",
   "source": "%config InlineBackend.figure_format = \"svg\"",
   "id": "67e77f7568e6a420",
   "outputs": [],
   "execution_count": null
  },
  {
   "cell_type": "markdown",
   "id": "fe74be4a1ef34e71",
   "metadata": {},
   "source": "## Imports"
  },
  {
   "cell_type": "code",
   "id": "38f8e906293ce220",
   "metadata": {},
   "source": [
    "import os\n",
    "\n",
    "import numpy as np\n",
    "import pandas as pd\n",
    "\n",
    "import matplotlib as mpl\n",
    "import matplotlib.pyplot as plt\n",
    "\n",
    "import seaborn as sns\n",
    "import seaborn.objects as so"
   ],
   "outputs": [],
   "execution_count": null
  },
  {
   "metadata": {},
   "cell_type": "markdown",
   "source": "## Aesthetics",
   "id": "f281fc14f2c785ab"
  },
  {
   "metadata": {},
   "cell_type": "code",
   "source": [
    "sns.set_theme(\n",
    "    style='whitegrid'\n",
    ")"
   ],
   "id": "37870ae7266d15c9",
   "outputs": [],
   "execution_count": null
  },
  {
   "metadata": {},
   "cell_type": "markdown",
   "source": "## Load data",
   "id": "65faefa28c631317"
  },
  {
   "cell_type": "code",
   "id": "c3c73b536e77fc3",
   "metadata": {},
   "source": [
    "folder_path_1 = '/Users/mattia/Desktop/Lab avanzato 1 - RAG/Results'\n",
    "folder_path_2 = '20240829-182323-UTC'\n",
    "file_name = 'metrics' + '.csv'\n",
    "file_path = os.path.join(folder_path_1, folder_path_2, file_name)\n",
    "\n",
    "df = pd.read_csv(file_path)"
   ],
   "outputs": [],
   "execution_count": null
  },
  {
   "metadata": {},
   "cell_type": "code",
   "source": [
    "folder_path_2 = '20240830-151856-UTC'\n",
    "file_name = 'metrics' + '.csv'\n",
    "file_path = os.path.join(folder_path_1, folder_path_2, file_name)\n",
    "\n",
    "df2 = pd.read_csv(file_path)"
   ],
   "id": "798752f283fabc00",
   "outputs": [],
   "execution_count": null
  },
  {
   "cell_type": "markdown",
   "id": "7f095b9465e98bad",
   "metadata": {},
   "source": "## Visualize data"
  },
  {
   "metadata": {},
   "cell_type": "markdown",
   "source": "### Common labels",
   "id": "be9037306c0ed67a"
  },
  {
   "metadata": {},
   "cell_type": "code",
   "source": [
    "class_levels = 2\n",
    "\n",
    "# axes_title = f\"Results with {class_levels} classification levels.\\n(one vector store VS for each statement, VS created from top10 Bing results)\"\n",
    "axes_title = f\"Results with {class_levels} classification levels.\\n(one single vector store VS with all evidence)\"\n",
    "\n",
    "axes_xlabel = \"Truncated Ranking (applied to VS results)\""
   ],
   "id": "a5d456f6a72f9fbc",
   "outputs": [],
   "execution_count": null
  },
  {
   "metadata": {},
   "cell_type": "markdown",
   "source": "### 2 classification levels",
   "id": "7fcd4792a38613fa"
  },
  {
   "metadata": {},
   "cell_type": "markdown",
   "source": "#### Accuracy, Precision, Recall, F1",
   "id": "a68c1281dc7c9990"
  },
  {
   "metadata": {},
   "cell_type": "code",
   "source": [
    "fig, ax = plt.subplots()\n",
    "\n",
    "sns.lineplot(data=df, x='TRUNCATED_RANKING_RETRIEVER_RESULTS', y='accuracy', ax=ax, marker='o', label='Accuracy')\n",
    "sns.lineplot(data=df, x='TRUNCATED_RANKING_RETRIEVER_RESULTS', y='precision', ax=ax, marker='o', label='Precision')\n",
    "sns.lineplot(data=df, x='TRUNCATED_RANKING_RETRIEVER_RESULTS', y='recall', ax=ax, marker='o', label='Recall')\n",
    "sns.lineplot(data=df, x='TRUNCATED_RANKING_RETRIEVER_RESULTS', y='f1', ax=ax, marker='o', label='F1')\n",
    "\n",
    "ax.set_title(axes_title)\n",
    "ax.set_xticks(range(1, 11))\n",
    "ax.set_xlabel(axes_xlabel)\n",
    "ax.set_ylabel(\"Value\")"
   ],
   "id": "2693c8b8a100a44b",
   "outputs": [],
   "execution_count": null
  },
  {
   "metadata": {},
   "cell_type": "markdown",
   "source": "### 6 classification levels",
   "id": "fb435de586de429a"
  },
  {
   "metadata": {},
   "cell_type": "markdown",
   "source": "#### Accuracy",
   "id": "d33901f162fc9e68"
  },
  {
   "metadata": {},
   "cell_type": "code",
   "source": [
    "fig, ax = plt.subplots()\n",
    "\n",
    "sns.lineplot(data=df, x='TRUNCATED_RANKING_RETRIEVER_RESULTS', y='accuracy', ax=ax, marker='o', label='Accuracy')\n",
    "\n",
    "ax.set_title(axes_title)\n",
    "ax.set_xticks(range(1, 11))\n",
    "ax.set_xlabel(axes_xlabel)\n",
    "ax.set_ylabel(\"Value\")"
   ],
   "id": "e640f02f62bbf057",
   "outputs": [],
   "execution_count": null
  },
  {
   "metadata": {},
   "cell_type": "markdown",
   "source": "#### MSE",
   "id": "e641dd577dde8937"
  },
  {
   "metadata": {},
   "cell_type": "code",
   "source": [
    "fig, ax = plt.subplots()\n",
    "\n",
    "sns.lineplot(data=df, x='TRUNCATED_RANKING_RETRIEVER_RESULTS', y='mse', ax=ax, marker='o', label='MSE')\n",
    "\n",
    "ax.set_title(axes_title)\n",
    "ax.set_xticks(range(1, 11))\n",
    "ax.set_xlabel(axes_xlabel)\n",
    "ax.set_ylabel(\"Value\")"
   ],
   "id": "b7519f75ae3eee2c",
   "outputs": [],
   "execution_count": null
  },
  {
   "metadata": {},
   "cell_type": "markdown",
   "source": "#### MAE",
   "id": "a2bc8960e29003f5"
  },
  {
   "metadata": {},
   "cell_type": "code",
   "source": [
    "fig, ax = plt.subplots()\n",
    "\n",
    "sns.lineplot(data=df, x='TRUNCATED_RANKING_RETRIEVER_RESULTS', y='mae', ax=ax, marker='o', label='MAE')\n",
    "\n",
    "ax.set_title(axes_title)\n",
    "ax.set_xticks(range(1, 11))\n",
    "ax.set_xlabel(axes_xlabel)\n",
    "ax.set_ylabel(\"Value\")"
   ],
   "id": "7a6e5f1645666517",
   "outputs": [],
   "execution_count": null
  },
  {
   "metadata": {},
   "cell_type": "markdown",
   "source": "## Save data",
   "id": "a512e28be57d918a"
  },
  {
   "metadata": {},
   "cell_type": "code",
   "source": [
    "file_path = os.path.join(folder_path_1, folder_path_2, 'chart.png')\n",
    "\n",
    "# Uncomment the following when you want to save the figure\n",
    "fig.savefig(file_path, dpi=300, bbox_inches = \"tight\")"
   ],
   "id": "c2e5893bfcf9e794",
   "outputs": [],
   "execution_count": null
  }
 ],
 "metadata": {
  "kernelspec": {
   "display_name": "Python 3 (ipykernel)",
   "language": "python",
   "name": "python3"
  },
  "language_info": {
   "codemirror_mode": {
    "name": "ipython",
    "version": 3
   },
   "file_extension": ".py",
   "mimetype": "text/x-python",
   "name": "python",
   "nbconvert_exporter": "python",
   "pygments_lexer": "ipython3",
   "version": "3.12.3"
  }
 },
 "nbformat": 4,
 "nbformat_minor": 5
}
