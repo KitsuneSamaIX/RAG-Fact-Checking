{
 "cells": [
  {
   "metadata": {},
   "cell_type": "markdown",
   "source": "# Visualizations",
   "id": "a1cdb9df94806f16"
  },
  {
   "metadata": {},
   "cell_type": "markdown",
   "source": "## Config",
   "id": "388f9600325c0188"
  },
  {
   "metadata": {},
   "cell_type": "code",
   "source": "%config InlineBackend.figure_format = 'svg'",
   "id": "67e77f7568e6a420",
   "outputs": [],
   "execution_count": null
  },
  {
   "cell_type": "markdown",
   "id": "fe74be4a1ef34e71",
   "metadata": {},
   "source": "## Imports"
  },
  {
   "cell_type": "code",
   "id": "38f8e906293ce220",
   "metadata": {},
   "source": [
    "import os\n",
    "\n",
    "import numpy as np\n",
    "import pandas as pd\n",
    "\n",
    "import matplotlib as mpl\n",
    "import matplotlib.pyplot as plt\n",
    "\n",
    "from matplotlib.axes import Axes\n",
    "from matplotlib.figure import Figure\n",
    "\n",
    "import seaborn as sns\n",
    "import seaborn.objects as so"
   ],
   "outputs": [],
   "execution_count": null
  },
  {
   "metadata": {},
   "cell_type": "markdown",
   "source": "## Aesthetics",
   "id": "f281fc14f2c785ab"
  },
  {
   "metadata": {},
   "cell_type": "code",
   "source": [
    "sns.set_theme(\n",
    "    style='whitegrid'\n",
    ")"
   ],
   "id": "37870ae7266d15c9",
   "outputs": [],
   "execution_count": null
  },
  {
   "metadata": {},
   "cell_type": "markdown",
   "source": "## Load data",
   "id": "65faefa28c631317"
  },
  {
   "metadata": {},
   "cell_type": "code",
   "source": "folder_path_prefix = '/Users/mattia/Desktop/Lab avanzato 1 - RAG/Results'",
   "id": "72402437e5277f52",
   "outputs": [],
   "execution_count": null
  },
  {
   "metadata": {},
   "cell_type": "code",
   "source": [
    "folder_name = '20241005-131533-UTC'\n",
    "file_name = 'metrics' + '.csv'\n",
    "input_file_path = os.path.join(folder_path_prefix, folder_name, file_name)\n",
    "df_1 = pd.read_csv(input_file_path)"
   ],
   "id": "7e291b7f08f26a9e",
   "outputs": [],
   "execution_count": null
  },
  {
   "metadata": {},
   "cell_type": "code",
   "source": [
    "folder_name = '20241008-123548-UTC'\n",
    "file_name = 'metrics' + '.csv'\n",
    "input_file_path = os.path.join(folder_path_prefix, folder_name, file_name)\n",
    "df_2 = pd.read_csv(input_file_path)"
   ],
   "id": "5d11a42238ec7936",
   "outputs": [],
   "execution_count": null
  },
  {
   "metadata": {},
   "cell_type": "code",
   "source": [
    "folder_name = '20241009-031749-UTC'\n",
    "file_name = 'metrics' + '.csv'\n",
    "input_file_path = os.path.join(folder_path_prefix, folder_name, file_name)\n",
    "df_3 = pd.read_csv(input_file_path)"
   ],
   "id": "a46d5e697538e7b0",
   "outputs": [],
   "execution_count": null
  },
  {
   "metadata": {},
   "cell_type": "code",
   "source": [
    "folder_name = '20241009-135653-UTC'\n",
    "file_name = 'metrics' + '.csv'\n",
    "input_file_path = os.path.join(folder_path_prefix, folder_name, file_name)\n",
    "df_4 = pd.read_csv(input_file_path)"
   ],
   "id": "2f8e0984302666d6",
   "outputs": [],
   "execution_count": null
  },
  {
   "metadata": {},
   "cell_type": "code",
   "source": [
    "df_1['LLM'] = 'Llama3.1 8b fp16 (old prompts)'\n",
    "df_2['LLM'] = 'Mistral NeMo 12b fp16 (old prompts)'\n",
    "df_3['LLM'] = 'Mistral NeMo 12b fp16 (new prompts)'\n",
    "df_4['LLM'] = 'Llama3.1 8b fp16 (new prompts)'\n",
    "df = pd.concat([df_1, df_2, df_3, df_4], ignore_index=True)"
   ],
   "id": "d8d739bc44d01535",
   "outputs": [],
   "execution_count": null
  },
  {
   "metadata": {},
   "cell_type": "markdown",
   "source": "## Common",
   "id": "7ecbf1d0fac35432"
  },
  {
   "metadata": {},
   "cell_type": "code",
   "source": "main_title = lambda class_levels: f\"Results with {class_levels} classification levels. (one single vector store VS with all evidence)\"",
   "id": "6e1e5942cfba90b7",
   "outputs": [],
   "execution_count": null
  },
  {
   "metadata": {},
   "cell_type": "code",
   "source": [
    "x_var = 'TRUNCATED_RANKING_RETRIEVER_RESULTS'\n",
    "x_label = \"Truncated Ranking (on VS results)\""
   ],
   "id": "9538198fb4977192",
   "outputs": [],
   "execution_count": null
  },
  {
   "metadata": {},
   "cell_type": "code",
   "source": "figures = []",
   "id": "b487dd6c9a5b09",
   "outputs": [],
   "execution_count": null
  },
  {
   "metadata": {},
   "cell_type": "markdown",
   "source": "## Utilities",
   "id": "be9037306c0ed67a"
  },
  {
   "metadata": {},
   "cell_type": "code",
   "source": [
    "def plot_mode_comparison(df:pd.DataFrame, classification_levels: int, y_var: str, y_label: str = None, hue: str = None):\n",
    "    # Create FacetGrid\n",
    "    g = sns.FacetGrid(df, col='Mode', hue=hue, col_wrap=3, height=3.5, aspect=1.2)\n",
    "    \n",
    "    # Plot values\n",
    "    g.map_dataframe(sns.lineplot, x=x_var, y=y_var, errorbar=None, marker='o')\n",
    "    \n",
    "    # Set main title\n",
    "    g.figure.suptitle(main_title(classification_levels), x=0.35, y=1.1, fontweight='bold')\n",
    "    \n",
    "    # Set FacetGrid attributes\n",
    "    g.set_axis_labels(x_label, y_label)\n",
    "    g.add_legend(title='LLM', loc='lower left', bbox_to_anchor=(0.03, -0.25), ncols=2, frameon=True)\n",
    "    \n",
    "    # Set attributes on all Axes\n",
    "    g.set(xticks=range(1, 11))\n",
    "    \n",
    "    # Add to figures collection\n",
    "    figures.append(g.figure)"
   ],
   "id": "e3fa2b3ec6ee523a",
   "outputs": [],
   "execution_count": null
  },
  {
   "metadata": {},
   "cell_type": "markdown",
   "source": "## Visualize data",
   "id": "7f095b9465e98bad"
  },
  {
   "metadata": {},
   "cell_type": "markdown",
   "source": "### Preprocessing",
   "id": "1b547bd159db413a"
  },
  {
   "metadata": {},
   "cell_type": "code",
   "source": [
    "def infer_mode(row: pd.Series) -> str:\n",
    "    match row['FILL_EVIDENCE'], row['INVERT_EVIDENCE']:\n",
    "        case True, False:\n",
    "            return 'Fill'\n",
    "        case False, True:\n",
    "            return 'Invert'\n",
    "        case False, False:\n",
    "            return 'Normal'\n",
    "\n",
    "# Add 'Mode' column\n",
    "df['Mode'] = df.apply(infer_mode, axis=1)"
   ],
   "id": "9c0545afbbb23a63",
   "outputs": [],
   "execution_count": null
  },
  {
   "metadata": {},
   "cell_type": "markdown",
   "source": "### 2 classification levels",
   "id": "7fcd4792a38613fa"
  },
  {
   "metadata": {},
   "cell_type": "markdown",
   "source": "#### Filter data",
   "id": "6fb5964f84bf891c"
  },
  {
   "metadata": {},
   "cell_type": "code",
   "source": "df_2cl = df[df.CLASSIFICATION_LEVELS == 2]",
   "id": "53c7c9dfd8ee945c",
   "outputs": [],
   "execution_count": null
  },
  {
   "metadata": {},
   "cell_type": "markdown",
   "source": "#### Accuracy",
   "id": "a68c1281dc7c9990"
  },
  {
   "metadata": {},
   "cell_type": "code",
   "source": "plot_mode_comparison(df_2cl, classification_levels=2, y_var='accuracy', y_label='Accuracy', hue='LLM')",
   "id": "f65f21eced75cc1e",
   "outputs": [],
   "execution_count": null
  },
  {
   "metadata": {},
   "cell_type": "markdown",
   "source": "#### Precision",
   "id": "d4188c4a7e18be4d"
  },
  {
   "metadata": {},
   "cell_type": "code",
   "source": "plot_mode_comparison(df_2cl, classification_levels=2, y_var='precision', y_label='Precision', hue='LLM')",
   "id": "cd828c060cb223ff",
   "outputs": [],
   "execution_count": null
  },
  {
   "metadata": {},
   "cell_type": "markdown",
   "source": "#### Recall",
   "id": "49f527df60dd6cd3"
  },
  {
   "metadata": {},
   "cell_type": "code",
   "source": "plot_mode_comparison(df_2cl, classification_levels=2, y_var='recall', y_label='Recall', hue='LLM')",
   "id": "624717fea649737e",
   "outputs": [],
   "execution_count": null
  },
  {
   "metadata": {},
   "cell_type": "markdown",
   "source": "#### F1",
   "id": "f670c2aa2a0aeb05"
  },
  {
   "metadata": {},
   "cell_type": "code",
   "source": "plot_mode_comparison(df_2cl, classification_levels=2, y_var='f1', y_label='F1', hue='LLM')",
   "id": "53d24a2df57f4e83",
   "outputs": [],
   "execution_count": null
  },
  {
   "metadata": {},
   "cell_type": "markdown",
   "source": "### 6 classification levels",
   "id": "fb435de586de429a"
  },
  {
   "metadata": {},
   "cell_type": "markdown",
   "source": "#### Filter data",
   "id": "ff4d8dea10a94c61"
  },
  {
   "metadata": {},
   "cell_type": "code",
   "source": "df_6cl = df[df.CLASSIFICATION_LEVELS == 6]",
   "id": "3ef578e531511660",
   "outputs": [],
   "execution_count": null
  },
  {
   "metadata": {},
   "cell_type": "markdown",
   "source": "#### Accuracy",
   "id": "d33901f162fc9e68"
  },
  {
   "metadata": {},
   "cell_type": "code",
   "source": "plot_mode_comparison(df_6cl, classification_levels=6, y_var='accuracy', y_label='Accuracy', hue='LLM')",
   "id": "e640f02f62bbf057",
   "outputs": [],
   "execution_count": null
  },
  {
   "metadata": {},
   "cell_type": "markdown",
   "source": "#### MSE",
   "id": "e641dd577dde8937"
  },
  {
   "metadata": {},
   "cell_type": "code",
   "source": "plot_mode_comparison(df_6cl, classification_levels=6, y_var='mse', y_label='MSE', hue='LLM')",
   "id": "b7519f75ae3eee2c",
   "outputs": [],
   "execution_count": null
  },
  {
   "metadata": {},
   "cell_type": "markdown",
   "source": "#### MAE",
   "id": "a2bc8960e29003f5"
  },
  {
   "metadata": {},
   "cell_type": "code",
   "source": "plot_mode_comparison(df_6cl, classification_levels=6, y_var='mae', y_label='MAE', hue='LLM')",
   "id": "7a6e5f1645666517",
   "outputs": [],
   "execution_count": null
  },
  {
   "metadata": {},
   "cell_type": "markdown",
   "source": "## Save data",
   "id": "a512e28be57d918a"
  },
  {
   "metadata": {},
   "cell_type": "code",
   "source": [
    "# Save all collected figures\n",
    "if False:\n",
    "    for index, fig in enumerate(figures):   \n",
    "        output_file_path = os.path.join(folder_path_prefix, folder_name, f'chart_{index}.png')\n",
    "        fig.savefig(output_file_path, dpi=300, bbox_inches = \"tight\")"
   ],
   "id": "c2e5893bfcf9e794",
   "outputs": [],
   "execution_count": null
  }
 ],
 "metadata": {
  "kernelspec": {
   "display_name": "Python 3 (ipykernel)",
   "language": "python",
   "name": "python3"
  },
  "language_info": {
   "codemirror_mode": {
    "name": "ipython",
    "version": 3
   },
   "file_extension": ".py",
   "mimetype": "text/x-python",
   "name": "python",
   "nbconvert_exporter": "python",
   "pygments_lexer": "ipython3",
   "version": "3.12.3"
  }
 },
 "nbformat": 4,
 "nbformat_minor": 5
}
