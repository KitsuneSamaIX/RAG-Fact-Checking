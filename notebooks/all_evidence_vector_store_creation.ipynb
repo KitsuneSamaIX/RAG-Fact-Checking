{
 "cells": [
  {
   "metadata": {},
   "cell_type": "markdown",
   "source": "## Imports",
   "id": "b6395ecf852be641"
  },
  {
   "metadata": {
    "collapsed": true
   },
   "cell_type": "code",
   "source": [
    "import pandas as pd\n",
    "\n",
    "from src.config import config"
   ],
   "id": "initial_id",
   "outputs": [],
   "execution_count": null
  },
  {
   "metadata": {},
   "cell_type": "markdown",
   "source": "## Setup",
   "id": "da8d8f8d31a24cc1"
  },
  {
   "metadata": {},
   "cell_type": "code",
   "source": [
    "pd.set_option('mode.copy_on_write', True)\n",
    "pd.set_option('display.max_columns', 10)\n",
    "pd.set_option('display.max_rows', 5)"
   ],
   "id": "833ddc810354ab36",
   "outputs": [],
   "execution_count": null
  },
  {
   "metadata": {},
   "cell_type": "markdown",
   "source": "## Load data",
   "id": "7b172d6fc914bc15"
  },
  {
   "metadata": {},
   "cell_type": "code",
   "source": [
    "ground_truth_df = pd.read_csv(config.GROUND_TRUTH_DATASET_PATH)\n",
    "search_engine_results_df = pd.read_csv(config.SEARCH_ENGINE_RESULTS_DATASET_PATH)"
   ],
   "id": "d51dfe1feef877b1",
   "outputs": [],
   "execution_count": null
  },
  {
   "metadata": {},
   "cell_type": "markdown",
   "source": "## Clean data",
   "id": "5677871933c3728"
  },
  {
   "metadata": {},
   "cell_type": "code",
   "source": [
    "# Remove ids with no evidence from ground_truth_df\n",
    "ids = ground_truth_df.statement_id\n",
    "\n",
    "bad_ids = []\n",
    "for id in ids:\n",
    "    df = search_engine_results_df[search_engine_results_df.fact_check_id == id]\n",
    "    if df.empty:\n",
    "        bad_ids.append(id)\n",
    "\n",
    "clean_ground_truth_df = ground_truth_df[~ground_truth_df.statement_id.isin(bad_ids)]"
   ],
   "id": "a3c8dc40a288ae57",
   "outputs": [],
   "execution_count": null
  },
  {
   "metadata": {},
   "cell_type": "markdown",
   "source": "## Build vector store",
   "id": "390cb159cd399d52"
  },
  {
   "metadata": {},
   "cell_type": "code",
   "source": "",
   "id": "2109de7b832f5014",
   "outputs": [],
   "execution_count": null
  },
  {
   "metadata": {},
   "cell_type": "markdown",
   "source": "## Save clean data and vector store",
   "id": "fc2d5aea5eb78f72"
  },
  {
   "metadata": {},
   "cell_type": "code",
   "source": "output_folder = config.ALL_EVIDENCE_VECTOR_STORE_PATH",
   "id": "1718d97e7e84e22a",
   "outputs": [],
   "execution_count": null
  }
 ],
 "metadata": {
  "kernelspec": {
   "display_name": "Python 3",
   "language": "python",
   "name": "python3"
  },
  "language_info": {
   "codemirror_mode": {
    "name": "ipython",
    "version": 2
   },
   "file_extension": ".py",
   "mimetype": "text/x-python",
   "name": "python",
   "nbconvert_exporter": "python",
   "pygments_lexer": "ipython2",
   "version": "2.7.6"
  }
 },
 "nbformat": 4,
 "nbformat_minor": 5
}
