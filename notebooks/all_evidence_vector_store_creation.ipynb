{
 "cells": [
  {
   "metadata": {},
   "cell_type": "markdown",
   "source": "## Imports",
   "id": "b6395ecf852be641"
  },
  {
   "metadata": {
    "collapsed": true
   },
   "cell_type": "code",
   "source": [
    "import os\n",
    "\n",
    "import pandas as pd\n",
    "\n",
    "from langchain_community.document_loaders import BSHTMLLoader\n",
    "from langchain_community.vectorstores import FAISS\n",
    "from langchain_text_splitters import RecursiveCharacterTextSplitter\n",
    "\n",
    "from src.config import config"
   ],
   "id": "initial_id",
   "outputs": [],
   "execution_count": null
  },
  {
   "metadata": {},
   "cell_type": "markdown",
   "source": "## Setup",
   "id": "da8d8f8d31a24cc1"
  },
  {
   "metadata": {},
   "cell_type": "code",
   "source": [
    "pd.set_option('mode.copy_on_write', True)\n",
    "pd.set_option('display.max_columns', 10)\n",
    "pd.set_option('display.max_rows', 5)"
   ],
   "id": "833ddc810354ab36",
   "outputs": [],
   "execution_count": null
  },
  {
   "metadata": {},
   "cell_type": "markdown",
   "source": "## Load data",
   "id": "7b172d6fc914bc15"
  },
  {
   "metadata": {},
   "cell_type": "code",
   "source": [
    "ground_truth_df = pd.read_csv(config.GROUND_TRUTH_DATASET_PATH)\n",
    "search_engine_results_df = pd.read_csv(config.SEARCH_ENGINE_RESULTS_DATASET_PATH)"
   ],
   "id": "d51dfe1feef877b1",
   "outputs": [],
   "execution_count": null
  },
  {
   "metadata": {},
   "cell_type": "markdown",
   "source": "## Clean data",
   "id": "5677871933c3728"
  },
  {
   "metadata": {},
   "cell_type": "markdown",
   "source": "Remove ids with no evidence from ground_truth_df",
   "id": "f461bfb8e1e1ab6a"
  },
  {
   "metadata": {},
   "cell_type": "code",
   "source": [
    "ids = ground_truth_df.statement_id\n",
    "\n",
    "bad_ids = []\n",
    "for id in ids:\n",
    "    df = search_engine_results_df[search_engine_results_df.fact_check_id == id]\n",
    "    if df.empty:\n",
    "        bad_ids.append(id)\n",
    "\n",
    "clean_ground_truth_df = ground_truth_df[~ground_truth_df.statement_id.isin(bad_ids)]"
   ],
   "id": "a3c8dc40a288ae57",
   "outputs": [],
   "execution_count": null
  },
  {
   "metadata": {},
   "cell_type": "markdown",
   "source": "## Build vector store",
   "id": "390cb159cd399d52"
  },
  {
   "metadata": {},
   "cell_type": "markdown",
   "source": "Collect unique uuids of cached url files",
   "id": "e3869975cfeac59"
  },
  {
   "metadata": {},
   "cell_type": "code",
   "source": [
    "ids = clean_ground_truth_df.statement_id\n",
    "\n",
    "uuids = []\n",
    "for id in ids:\n",
    "    # Get matching uuids\n",
    "    df = search_engine_results_df\n",
    "    df = df[df.fact_check_id == id]\n",
    "    df = df['result_uuid']\n",
    "    if len(df) < 10:\n",
    "        print(f\"WARN less than 10 urls for ID: {id}\")\n",
    "    # Collect uuids\n",
    "    uuids.append(df)\n",
    "\n",
    "uuids_series = pd.concat(uuids, ignore_index=True)\n",
    "uuids_series.drop_duplicates(inplace=True)\n",
    "print(f\"Unique uuids: {len(uuids_series)}\")"
   ],
   "id": "2109de7b832f5014",
   "outputs": [],
   "execution_count": null
  },
  {
   "metadata": {},
   "cell_type": "markdown",
   "source": "Collect docs for the vector store",
   "id": "1e70994bceaeb520"
  },
  {
   "metadata": {},
   "cell_type": "code",
   "source": [
    "result_docs = []\n",
    "\n",
    "for uuid in uuids_series:\n",
    "    # Load from HTML file\n",
    "    html_loader = BSHTMLLoader(os.path.join(config.CACHED_URLS_PATH, uuid + '.html'))\n",
    "    docs = html_loader.load()\n",
    "\n",
    "    # Split\n",
    "    text_splitter = RecursiveCharacterTextSplitter(\n",
    "        chunk_size=config.TEXT_SPLITTER_CHUNK_SIZE,\n",
    "        chunk_overlap=config.TEXT_SPLITTER_CHUNK_OVERLAP\n",
    "    )\n",
    "    docs = text_splitter.split_documents(docs)\n",
    "\n",
    "    # Add to result\n",
    "    result_docs += docs"
   ],
   "id": "91d37bdf0c468e5d",
   "outputs": [],
   "execution_count": null
  },
  {
   "metadata": {},
   "cell_type": "markdown",
   "source": "Build the vector store",
   "id": "ea8767115d15b57e"
  },
  {
   "metadata": {},
   "cell_type": "code",
   "source": "vector_store = FAISS.from_documents(result_docs, config.get_embeddings())",
   "id": "cfa318137620e1b",
   "outputs": [],
   "execution_count": null
  },
  {
   "metadata": {},
   "cell_type": "markdown",
   "source": "## Save clean data and vector store",
   "id": "4f1f3dad54e7029b"
  },
  {
   "metadata": {},
   "cell_type": "markdown",
   "source": "Save vector store",
   "id": "4f2b254148a459c5"
  },
  {
   "metadata": {},
   "cell_type": "code",
   "source": [
    "output_folder = config.ALL_EVIDENCE_VECTOR_STORE_PATH\n",
    "vector_store.save_local(folder_path=output_folder)"
   ],
   "id": "1718d97e7e84e22a",
   "outputs": [],
   "execution_count": null
  },
  {
   "metadata": {},
   "cell_type": "markdown",
   "source": "Save clean data",
   "id": "6fd4cb920d9fa661"
  },
  {
   "metadata": {},
   "cell_type": "code",
   "source": [
    "output_folder = config.ALL_EVIDENCE_VECTOR_STORE_PATH\n",
    "file_path = os.path.join(output_folder, 'ground_truth.csv')\n",
    "\n",
    "clean_ground_truth_df.drop(columns=['Unnamed: 0'], inplace=True)\n",
    "clean_ground_truth_df.reset_index(drop=True, inplace=True)\n",
    "\n",
    "clean_ground_truth_df.to_csv(file_path)"
   ],
   "id": "78736a451be2a827",
   "outputs": [],
   "execution_count": null
  }
 ],
 "metadata": {
  "kernelspec": {
   "display_name": "Python 3",
   "language": "python",
   "name": "python3"
  },
  "language_info": {
   "codemirror_mode": {
    "name": "ipython",
    "version": 2
   },
   "file_extension": ".py",
   "mimetype": "text/x-python",
   "name": "python",
   "nbconvert_exporter": "python",
   "pygments_lexer": "ipython2",
   "version": "2.7.6"
  }
 },
 "nbformat": 4,
 "nbformat_minor": 5
}
