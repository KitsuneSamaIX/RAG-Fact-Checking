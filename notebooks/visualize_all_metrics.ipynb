{
 "cells": [
  {
   "metadata": {},
   "cell_type": "markdown",
   "source": "# Visualizations",
   "id": "a1cdb9df94806f16"
  },
  {
   "metadata": {},
   "cell_type": "markdown",
   "source": "## Config",
   "id": "388f9600325c0188"
  },
  {
   "metadata": {},
   "cell_type": "code",
   "source": "%config InlineBackend.figure_format = \"svg\"",
   "id": "67e77f7568e6a420",
   "outputs": [],
   "execution_count": null
  },
  {
   "cell_type": "markdown",
   "id": "fe74be4a1ef34e71",
   "metadata": {},
   "source": "## Imports"
  },
  {
   "cell_type": "code",
   "id": "38f8e906293ce220",
   "metadata": {},
   "source": [
    "import os\n",
    "\n",
    "import numpy as np\n",
    "import pandas as pd\n",
    "\n",
    "import matplotlib as mpl\n",
    "import matplotlib.pyplot as plt\n",
    "\n",
    "from matplotlib.axes import Axes\n",
    "from matplotlib.figure import Figure\n",
    "\n",
    "import seaborn as sns\n",
    "import seaborn.objects as so"
   ],
   "outputs": [],
   "execution_count": null
  },
  {
   "metadata": {},
   "cell_type": "markdown",
   "source": "## Aesthetics",
   "id": "f281fc14f2c785ab"
  },
  {
   "metadata": {},
   "cell_type": "code",
   "source": [
    "sns.set_theme(\n",
    "    style='whitegrid'\n",
    ")"
   ],
   "id": "37870ae7266d15c9",
   "outputs": [],
   "execution_count": null
  },
  {
   "metadata": {},
   "cell_type": "markdown",
   "source": "## Load data",
   "id": "65faefa28c631317"
  },
  {
   "metadata": {},
   "cell_type": "code",
   "source": [
    "folder_path_prefix = '/Users/mattia/Desktop/Lab avanzato 1 - RAG/Results'\n",
    "# folder_name = '20241005-131533-UTC'\n",
    "folder_name = '20241008-123548-UTC'\n",
    "file_name = 'metrics' + '.csv'\n",
    "input_file_path = os.path.join(folder_path_prefix, folder_name, file_name)"
   ],
   "id": "5d11a42238ec7936",
   "outputs": [],
   "execution_count": null
  },
  {
   "metadata": {},
   "cell_type": "code",
   "source": "df = pd.read_csv(input_file_path)",
   "id": "153bbcfaf2ce4467",
   "outputs": [],
   "execution_count": null
  },
  {
   "metadata": {},
   "cell_type": "markdown",
   "source": "## Common",
   "id": "7ecbf1d0fac35432"
  },
  {
   "metadata": {},
   "cell_type": "code",
   "source": "figsize_1row_3col = (15, 5)",
   "id": "6e1e5942cfba90b7",
   "outputs": [],
   "execution_count": null
  },
  {
   "metadata": {},
   "cell_type": "code",
   "source": "figures = []",
   "id": "b487dd6c9a5b09",
   "outputs": [],
   "execution_count": null
  },
  {
   "metadata": {},
   "cell_type": "markdown",
   "source": "## Utilities",
   "id": "be9037306c0ed67a"
  },
  {
   "metadata": {},
   "cell_type": "code",
   "source": [
    "def customize_figure(fig: Figure, class_levels: int):\n",
    "    # fig.suptitle(f\"Results with {class_levels} classification levels.\\n(one vector store VS for each statement, VS created from top10 Bing results)\")\n",
    "    fig.suptitle(f\"Results with {class_levels} classification levels. (one single vector store VS with all evidence)\")"
   ],
   "id": "35cb48fdbc5475fe",
   "outputs": [],
   "execution_count": null
  },
  {
   "metadata": {},
   "cell_type": "code",
   "source": [
    "def customize_axes(ax: Axes, title: str):\n",
    "    ax.set_title(title)\n",
    "    ax.set_xticks(range(1, 11))\n",
    "    ax.set_xlabel(\"Truncated Ranking (on VS results)\")\n",
    "    ax.set_ylabel(\"Value\")"
   ],
   "id": "1921d3206acc05a3",
   "outputs": [],
   "execution_count": null
  },
  {
   "metadata": {},
   "cell_type": "code",
   "source": "x_var = 'TRUNCATED_RANKING_RETRIEVER_RESULTS'",
   "id": "5736a0532b188c42",
   "outputs": [],
   "execution_count": null
  },
  {
   "metadata": {},
   "cell_type": "code",
   "source": [
    "def plot_2cl(df: pd.DataFrame, ax: Axes, title: str):\n",
    "    sns.lineplot(data=df, x=x_var, y='accuracy', ax=ax, marker='o', label='Accuracy')\n",
    "    sns.lineplot(data=df, x=x_var, y='precision', ax=ax, marker='o', label='Precision')\n",
    "    sns.lineplot(data=df, x=x_var, y='recall', ax=ax, marker='o', label='Recall')\n",
    "    sns.lineplot(data=df, x=x_var, y='f1', ax=ax, marker='o', label='F1')\n",
    "    customize_axes(ax, title)"
   ],
   "id": "1e22c39b276c5a72",
   "outputs": [],
   "execution_count": null
  },
  {
   "metadata": {},
   "cell_type": "code",
   "source": [
    "def plot_6cl_accuracy(df: pd.DataFrame, ax: Axes, title: str):\n",
    "    sns.lineplot(data=df, x=x_var, y='accuracy', ax=ax, marker='o', label='Accuracy')\n",
    "    customize_axes(ax, title)"
   ],
   "id": "8337fc99cd09f56e",
   "outputs": [],
   "execution_count": null
  },
  {
   "metadata": {},
   "cell_type": "code",
   "source": [
    "def plot_6cl_mse(df: pd.DataFrame, ax: Axes, title: str):\n",
    "    sns.lineplot(data=df, x=x_var, y='mse', ax=ax, marker='o', label='MSE')\n",
    "    customize_axes(ax, title)"
   ],
   "id": "9cc12b497c41c456",
   "outputs": [],
   "execution_count": null
  },
  {
   "metadata": {},
   "cell_type": "code",
   "source": [
    "def plot_6cl_mae(df: pd.DataFrame, ax: Axes, title: str):\n",
    "    sns.lineplot(data=df, x=x_var, y='mae', ax=ax, marker='o', label='MAE')\n",
    "    customize_axes(ax, title)"
   ],
   "id": "e75c23f86c467ad7",
   "outputs": [],
   "execution_count": null
  },
  {
   "metadata": {},
   "cell_type": "markdown",
   "source": "## Visualize data",
   "id": "7f095b9465e98bad"
  },
  {
   "metadata": {},
   "cell_type": "markdown",
   "source": "### 2 classification levels",
   "id": "7fcd4792a38613fa"
  },
  {
   "metadata": {},
   "cell_type": "markdown",
   "source": "#### Filter data",
   "id": "6fb5964f84bf891c"
  },
  {
   "metadata": {},
   "cell_type": "code",
   "source": [
    "df_2cl = df[df.CLASSIFICATION_LEVELS == 2]\n",
    "\n",
    "df_2cl_fill = df_2cl[(df_2cl.FILL_EVIDENCE == True) & (df_2cl.INVERT_EVIDENCE == False)]\n",
    "df_2cl_invert = df_2cl[(df_2cl.FILL_EVIDENCE == False) & (df_2cl.INVERT_EVIDENCE == True)]\n",
    "df_2cl_normal = df_2cl[(df_2cl.FILL_EVIDENCE == False) & (df_2cl.INVERT_EVIDENCE == False)]"
   ],
   "id": "53c7c9dfd8ee945c",
   "outputs": [],
   "execution_count": null
  },
  {
   "metadata": {},
   "cell_type": "markdown",
   "source": "#### Accuracy, Precision, Recall, F1",
   "id": "a68c1281dc7c9990"
  },
  {
   "metadata": {},
   "cell_type": "code",
   "source": [
    "fig, axs = plt.subplots(1, 3, sharey='row', figsize=figsize_1row_3col)\n",
    "figures.append(fig)\n",
    "customize_figure(fig, 2)\n",
    "\n",
    "plot_2cl(df_2cl_fill, axs[0], \"Fill\")\n",
    "plot_2cl(df_2cl_invert, axs[1], \"Invert\")\n",
    "plot_2cl(df_2cl_normal, axs[2], \"Normal\")"
   ],
   "id": "2693c8b8a100a44b",
   "outputs": [],
   "execution_count": null
  },
  {
   "metadata": {},
   "cell_type": "markdown",
   "source": "### 6 classification levels",
   "id": "fb435de586de429a"
  },
  {
   "metadata": {},
   "cell_type": "markdown",
   "source": "#### Filter data",
   "id": "ff4d8dea10a94c61"
  },
  {
   "metadata": {},
   "cell_type": "code",
   "source": [
    "df_6cl = df[df.CLASSIFICATION_LEVELS == 6]\n",
    "\n",
    "df_6cl_fill = df_6cl[(df_6cl.FILL_EVIDENCE == True) & (df_6cl.INVERT_EVIDENCE == False)]\n",
    "df_6cl_invert = df_6cl[(df_6cl.FILL_EVIDENCE == False) & (df_6cl.INVERT_EVIDENCE == True)]\n",
    "df_6cl_normal = df_6cl[(df_6cl.FILL_EVIDENCE == False) & (df_6cl.INVERT_EVIDENCE == False)]"
   ],
   "id": "3ef578e531511660",
   "outputs": [],
   "execution_count": null
  },
  {
   "metadata": {},
   "cell_type": "markdown",
   "source": "#### Accuracy",
   "id": "d33901f162fc9e68"
  },
  {
   "metadata": {},
   "cell_type": "code",
   "source": [
    "fig, axs = plt.subplots(1, 3, sharey='row', figsize=figsize_1row_3col)\n",
    "figures.append(fig)\n",
    "customize_figure(fig, 6)\n",
    "\n",
    "plot_6cl_accuracy(df_6cl_fill, axs[0], \"Fill\")\n",
    "plot_6cl_accuracy(df_6cl_invert, axs[1], \"Invert\")\n",
    "plot_6cl_accuracy(df_6cl_normal, axs[2], \"Normal\")"
   ],
   "id": "e640f02f62bbf057",
   "outputs": [],
   "execution_count": null
  },
  {
   "metadata": {},
   "cell_type": "markdown",
   "source": "#### MSE",
   "id": "e641dd577dde8937"
  },
  {
   "metadata": {},
   "cell_type": "code",
   "source": [
    "fig, axs = plt.subplots(1, 3, sharey='row', figsize=figsize_1row_3col)\n",
    "figures.append(fig)\n",
    "customize_figure(fig, 6)\n",
    "\n",
    "plot_6cl_mse(df_6cl_fill, axs[0], \"Fill\")\n",
    "plot_6cl_mse(df_6cl_invert, axs[1], \"Invert\")\n",
    "plot_6cl_mse(df_6cl_normal, axs[2], \"Normal\")"
   ],
   "id": "b7519f75ae3eee2c",
   "outputs": [],
   "execution_count": null
  },
  {
   "metadata": {},
   "cell_type": "markdown",
   "source": "#### MAE",
   "id": "a2bc8960e29003f5"
  },
  {
   "metadata": {},
   "cell_type": "code",
   "source": [
    "fig, axs = plt.subplots(1, 3, sharey='row', figsize=figsize_1row_3col)\n",
    "figures.append(fig)\n",
    "customize_figure(fig, 6)\n",
    "\n",
    "plot_6cl_mae(df_6cl_fill, axs[0], \"Fill\")\n",
    "plot_6cl_mae(df_6cl_invert, axs[1], \"Invert\")\n",
    "plot_6cl_mae(df_6cl_normal, axs[2], \"Normal\")"
   ],
   "id": "7a6e5f1645666517",
   "outputs": [],
   "execution_count": null
  },
  {
   "metadata": {},
   "cell_type": "markdown",
   "source": "## Save data",
   "id": "a512e28be57d918a"
  },
  {
   "metadata": {},
   "cell_type": "code",
   "source": [
    "# Save all collected figures\n",
    "if False:\n",
    "    for index, fig in enumerate(figures):   \n",
    "        output_file_path = os.path.join(folder_path_prefix, folder_name, f'chart_{index}.png')\n",
    "        fig.savefig(output_file_path, dpi=300, bbox_inches = \"tight\")"
   ],
   "id": "c2e5893bfcf9e794",
   "outputs": [],
   "execution_count": null
  }
 ],
 "metadata": {
  "kernelspec": {
   "display_name": "Python 3 (ipykernel)",
   "language": "python",
   "name": "python3"
  },
  "language_info": {
   "codemirror_mode": {
    "name": "ipython",
    "version": 3
   },
   "file_extension": ".py",
   "mimetype": "text/x-python",
   "name": "python",
   "nbconvert_exporter": "python",
   "pygments_lexer": "ipython3",
   "version": "3.12.3"
  }
 },
 "nbformat": 4,
 "nbformat_minor": 5
}
