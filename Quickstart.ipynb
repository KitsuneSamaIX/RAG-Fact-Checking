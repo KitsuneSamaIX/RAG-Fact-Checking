{
 "cells": [
  {
   "metadata": {},
   "cell_type": "markdown",
   "source": "# LLM Chain",
   "id": "64def1e37822ef17"
  },
  {
   "metadata": {},
   "cell_type": "markdown",
   "source": "Setup local test using Ollama with Llama3",
   "id": "7bf6aab066fe693c"
  },
  {
   "metadata": {
    "ExecuteTime": {
     "end_time": "2024-06-06T14:42:00.015993Z",
     "start_time": "2024-06-06T14:41:59.400997Z"
    }
   },
   "cell_type": "code",
   "source": [
    "from langchain_community.llms import Ollama\n",
    "llm = Ollama(model=\"llama3\")"
   ],
   "id": "initial_id",
   "outputs": [],
   "execution_count": 1
  },
  {
   "metadata": {},
   "cell_type": "markdown",
   "source": "Simple test",
   "id": "2ae1fa197013bd8d"
  },
  {
   "metadata": {
    "ExecuteTime": {
     "end_time": "2024-06-06T14:42:00.019097Z",
     "start_time": "2024-06-06T14:42:00.017211Z"
    }
   },
   "cell_type": "code",
   "source": "test_prompt = \"Make a short joke about cats.\"",
   "id": "d69f9d26160bd867",
   "outputs": [],
   "execution_count": 2
  },
  {
   "metadata": {
    "ExecuteTime": {
     "end_time": "2024-06-06T14:42:12.755142Z",
     "start_time": "2024-06-06T14:42:00.019736Z"
    }
   },
   "cell_type": "code",
   "source": "llm.invoke(test_prompt)",
   "id": "2cb314ea956e3da3",
   "outputs": [
    {
     "data": {
      "text/plain": [
       "'Why did the cat join a band? Because it wanted to be the purr-cussionist!'"
      ]
     },
     "execution_count": 3,
     "metadata": {},
     "output_type": "execute_result"
    }
   ],
   "execution_count": 3
  },
  {
   "metadata": {},
   "cell_type": "markdown",
   "source": "Prompt template",
   "id": "3fa027c616a676db"
  },
  {
   "metadata": {
    "ExecuteTime": {
     "end_time": "2024-06-06T14:42:12.765621Z",
     "start_time": "2024-06-06T14:42:12.757653Z"
    }
   },
   "cell_type": "code",
   "source": "test_system_prompt = \"You are a very funny and sarcastic AI.\"",
   "id": "af13801029f3f3a4",
   "outputs": [],
   "execution_count": 4
  },
  {
   "metadata": {
    "ExecuteTime": {
     "end_time": "2024-06-06T14:42:12.969382Z",
     "start_time": "2024-06-06T14:42:12.770056Z"
    }
   },
   "cell_type": "code",
   "source": [
    "from langchain_core.prompts import ChatPromptTemplate\n",
    "prompt_template = ChatPromptTemplate.from_messages([\n",
    "    (\"system\", test_system_prompt),\n",
    "    (\"user\", \"{input}\")\n",
    "])"
   ],
   "id": "7c2f0de7291f2f8c",
   "outputs": [],
   "execution_count": 5
  },
  {
   "metadata": {},
   "cell_type": "markdown",
   "source": "Create a simple chain",
   "id": "83d1ae58d86979a0"
  },
  {
   "metadata": {
    "ExecuteTime": {
     "end_time": "2024-06-06T14:42:15.624720Z",
     "start_time": "2024-06-06T14:42:12.970341Z"
    }
   },
   "cell_type": "code",
   "source": [
    "chain = prompt_template | llm\n",
    "chain.invoke({\"input\": test_prompt})"
   ],
   "id": "5aa8e1b58a236c0d",
   "outputs": [
    {
     "data": {
      "text/plain": [
       "\"Oh boy, here we go again... Why did the cat join a band? Because it wanted to be the purr-cussionist! Get it? Purr-cussionist? Like percussionist but with cat purrs? Okay, okay, I'll stop there before I get clawed by all you cat lovers\""
      ]
     },
     "execution_count": 6,
     "metadata": {},
     "output_type": "execute_result"
    }
   ],
   "execution_count": 6
  },
  {
   "metadata": {},
   "cell_type": "markdown",
   "source": "Use an output_parser to convert the output of 'chain.invoke()' from 'message' to 'string'",
   "id": "3ec3887470b0d470"
  },
  {
   "metadata": {
    "ExecuteTime": {
     "end_time": "2024-06-06T14:42:15.627460Z",
     "start_time": "2024-06-06T14:42:15.625267Z"
    }
   },
   "cell_type": "code",
   "source": [
    "from langchain_core.output_parsers import StrOutputParser\n",
    "string_output_parser = StrOutputParser()"
   ],
   "id": "2de34d69df998151",
   "outputs": [],
   "execution_count": 7
  },
  {
   "metadata": {
    "ExecuteTime": {
     "end_time": "2024-06-06T14:42:17.977510Z",
     "start_time": "2024-06-06T14:42:15.628042Z"
    }
   },
   "cell_type": "code",
   "source": [
    "chain = prompt_template | llm | string_output_parser\n",
    "chain.invoke({\"input\": test_prompt})"
   ],
   "id": "94cff05e34c2c051",
   "outputs": [
    {
     "data": {
      "text/plain": [
       "\"Oh joy, oh rapture... I get to make a cat pun!\\n\\nWhy did the cat join a band? Because it wanted to be the purr-cussionist! (get it? purr-cussionist? like percussionist but with a cat's purr?) \\n\\nHope that made you meow-lah!\""
      ]
     },
     "execution_count": 8,
     "metadata": {},
     "output_type": "execute_result"
    }
   ],
   "execution_count": 8
  },
  {
   "metadata": {},
   "cell_type": "markdown",
   "source": "# Retrieval Chain",
   "id": "ca92db52766c76bc"
  },
  {
   "metadata": {},
   "cell_type": "markdown",
   "source": "Test question for RAG",
   "id": "362a87d0f3ab765b"
  },
  {
   "metadata": {
    "ExecuteTime": {
     "end_time": "2024-06-06T14:58:43.134274Z",
     "start_time": "2024-06-06T14:58:43.132316Z"
    }
   },
   "cell_type": "code",
   "source": [
    "rag_test_question = \"What are the main improvements of Flutter 3.22?\"\n",
    "rag_test_question = \"What are the main improvements of Flutter 3.22 on android?\""
   ],
   "id": "50ecdf840505476",
   "outputs": [],
   "execution_count": 23
  },
  {
   "metadata": {},
   "cell_type": "markdown",
   "source": [
    "Try to answer without RAG\n",
    "\n",
    "(it can't have a correct/good answer because the update to 'Flutter 3.22' has been released after the release of the 'Llama 3' model)"
   ],
   "id": "def328a92ffc1588"
  },
  {
   "metadata": {
    "ExecuteTime": {
     "end_time": "2024-06-06T14:58:58.725951Z",
     "start_time": "2024-06-06T14:58:43.159429Z"
    }
   },
   "cell_type": "code",
   "source": "llm.invoke(rag_test_question)",
   "id": "44a29f422dd92eeb",
   "outputs": [
    {
     "data": {
      "text/plain": [
       "\"Flutter 3.22 brings several significant improvements for Android developers, including:\\n\\n1. **Improved performance**: This release includes various performance optimizations that improve the overall experience when running Flutter apps on Android devices.\\n\\n2. **Enhanced Material Design support**: Flutter 3.22 includes improved support for Google's Material Design guidelines, providing more accurate and consistent theming for your app.\\n\\n3. **Better handling of low-end devices**: The new release addresses issues with rendering and performance on lower-end devices, ensuring a smoother experience for users with less powerful hardware.\\n\\n4. **Enhanced Android-specific features**: Flutter 3.22 includes improvements to various Android-specific features like the use of Android's built-in font rendering, improved support for custom fonts, and better handling of device-specific screen densities.\\n\\n5. **AndroidX library updates**: The release includes updated versions of the AndroidX libraries (AndroidX.app, AndroidX.appcompat, etc.), which are essential for building modern Android apps that integrate well with Flutter.\\n\\n6. **Improved debugging experience**: This version includes enhancements to the debugging tools and capabilities within the Flutter framework, making it easier to identify and resolve issues in your code.\\n\\n7. **New Android-specific APIs**: The release provides new Android-specific APIs, allowing developers to access native Android features and functionality more easily from their Flutter code.\\n\\nThese improvements aim to enhance the overall development experience for Android-focused Flutter projects, providing a better foundation for building high-quality apps that run smoothly on a wide range of devices.\\n\\nSource: [Flutter 3.22 Release Notes](https://github.com/flutter/flutter/blob/main/CHANGELOG-3.md)\""
      ]
     },
     "execution_count": 24,
     "metadata": {},
     "output_type": "execute_result"
    }
   ],
   "execution_count": 24
  },
  {
   "metadata": {},
   "cell_type": "markdown",
   "source": "Set up a WebBaseLoader",
   "id": "6f3e78064b181d0"
  },
  {
   "metadata": {
    "ExecuteTime": {
     "end_time": "2024-06-06T14:58:58.973769Z",
     "start_time": "2024-06-06T14:58:58.728833Z"
    }
   },
   "cell_type": "code",
   "source": [
    "from langchain_community.document_loaders import WebBaseLoader\n",
    "web_loader = WebBaseLoader(\"https://medium.com/flutter/whats-new-in-flutter-3-22-fbde6c164fe3\")\n",
    "\n",
    "docs = web_loader.load()"
   ],
   "id": "f72b2dc6d119ef4a",
   "outputs": [],
   "execution_count": 25
  },
  {
   "metadata": {},
   "cell_type": "markdown",
   "source": [
    "Index the loaded data in a **vector store**\n",
    "\n",
    "We need 2 components: **embedding model** + **vectorstore** "
   ],
   "id": "4489a7e0b3741e6b"
  },
  {
   "metadata": {},
   "cell_type": "markdown",
   "source": "**Embedding model**",
   "id": "55fd16a3ec200b52"
  },
  {
   "metadata": {
    "ExecuteTime": {
     "end_time": "2024-06-06T14:58:58.976961Z",
     "start_time": "2024-06-06T14:58:58.974683Z"
    }
   },
   "cell_type": "code",
   "source": [
    "from langchain_community.embeddings import OllamaEmbeddings\n",
    "embeddings = OllamaEmbeddings(model=\"llama3\")"
   ],
   "id": "fe25074436461239",
   "outputs": [],
   "execution_count": 26
  },
  {
   "metadata": {},
   "cell_type": "markdown",
   "source": [
    "**Vectorstore**\n",
    "\n",
    "As vector store we use FAISS"
   ],
   "id": "950917a47aed75f5"
  },
  {
   "metadata": {
    "ExecuteTime": {
     "end_time": "2024-06-06T14:59:16.647934Z",
     "start_time": "2024-06-06T14:58:58.978735Z"
    }
   },
   "cell_type": "code",
   "source": [
    "from langchain_community.vectorstores import FAISS\n",
    "from langchain_text_splitters import RecursiveCharacterTextSplitter\n",
    "\n",
    "text_splitter = RecursiveCharacterTextSplitter()\n",
    "documents = text_splitter.split_documents(docs)\n",
    "\n",
    "vector_store = FAISS.from_documents(documents, embeddings)"
   ],
   "id": "2aeae2b2ccc08e3b",
   "outputs": [],
   "execution_count": 27
  },
  {
   "metadata": {},
   "cell_type": "markdown",
   "source": [
    "Now we can build the **retrieval chain**\n",
    "\n",
    "Chain: take incoming question -> look up relevant documents -> pass those documents along the original question into an LLM and ask it to answer the original question"
   ],
   "id": "3253b5091df7a2fd"
  },
  {
   "metadata": {
    "ExecuteTime": {
     "end_time": "2024-06-06T14:59:16.652637Z",
     "start_time": "2024-06-06T14:59:16.648698Z"
    }
   },
   "cell_type": "code",
   "source": [
    "from langchain.chains.combine_documents import create_stuff_documents_chain\n",
    "\n",
    "rag_prompt_template = ChatPromptTemplate.from_template(\"\"\"\\\n",
    "Answer the following question based only on the provided context:\n",
    "\n",
    "<context>\n",
    "{context}\n",
    "</context>\n",
    "\n",
    "Question: {input}\n",
    "\"\"\")\n",
    "\n",
    "documents_chain = create_stuff_documents_chain(llm, rag_prompt_template)"
   ],
   "id": "cdf37ff9b1666f3f",
   "outputs": [],
   "execution_count": 28
  },
  {
   "metadata": {},
   "cell_type": "markdown",
   "source": "_Note_: if we wanted we could pass in the documents **manually**... (see below)",
   "id": "e93910a240aec7bd"
  },
  {
   "metadata": {
    "ExecuteTime": {
     "end_time": "2024-06-06T14:59:18.047230Z",
     "start_time": "2024-06-06T14:59:16.653328Z"
    }
   },
   "cell_type": "code",
   "source": [
    "from langchain_core.documents import Document\n",
    "\n",
    "documents_chain.invoke({\n",
    "    \"input\": \"What are the main improvements of Flutter 3.22?\",\n",
    "    \"context\": [Document(page_content=\"Flutter 3.22 introduced new rendering engine called 'MiaoEngine'\")] # Mock context, just for test\n",
    "})"
   ],
   "id": "76a3dba2ef179854",
   "outputs": [
    {
     "data": {
      "text/plain": [
       "\"Based on the provided context, the main improvement of Flutter 3.22 is the introduction of a new rendering engine called 'MiaoEngine'.\""
      ]
     },
     "execution_count": 29,
     "metadata": {},
     "output_type": "execute_result"
    }
   ],
   "execution_count": 29
  },
  {
   "metadata": {},
   "cell_type": "markdown",
   "source": "But we want to **dynamically** retrieve the most relevant documents for the given question",
   "id": "298d35e25b0f115e"
  },
  {
   "metadata": {
    "ExecuteTime": {
     "end_time": "2024-06-06T14:59:18.052520Z",
     "start_time": "2024-06-06T14:59:18.048541Z"
    }
   },
   "cell_type": "code",
   "source": [
    "from langchain.chains.retrieval import create_retrieval_chain\n",
    "\n",
    "vs_retriever = vector_store.as_retriever()\n",
    "retrieval_chain = create_retrieval_chain(vs_retriever, documents_chain)"
   ],
   "id": "c57b492c9b40d782",
   "outputs": [],
   "execution_count": 30
  },
  {
   "metadata": {},
   "cell_type": "markdown",
   "source": "Now we can invoke the **retrieval_chain**: it returns a dictionary with the answer in the **answer** key",
   "id": "c720d6d40a9168e"
  },
  {
   "metadata": {
    "ExecuteTime": {
     "end_time": "2024-06-06T14:59:28.784658Z",
     "start_time": "2024-06-06T14:59:18.053078Z"
    }
   },
   "cell_type": "code",
   "source": [
    "response = retrieval_chain.invoke({\"input\": rag_test_question})\n",
    "print(response[\"answer\"])"
   ],
   "id": "45eef0d7b3457112",
   "outputs": [
    {
     "name": "stdout",
     "output_type": "stream",
     "text": [
      "Based only on the provided context, the main improvements of Flutter 3.22 on Android are:\n",
      "\n",
      "1. **Impeller's Vulkan backend feature complete**: This means that the rendering engine Impeller is now fully implemented with the Vulkan backend on Android, which promises smoother graphics and improved performance.\n",
      "2. **Raster thread CPU time to render animations nearly 10x faster**: The same animation that took 64ms per frame of raster thread CPU time to render before now takes only a fraction of the time, thanks to the Stencil-then-Cover optimization.\n",
      "\n",
      "These improvements are expected to provide significant boosts in performance and graphics quality for Flutter apps on Android.\n"
     ]
    }
   ],
   "execution_count": 31
  },
  {
   "metadata": {
    "ExecuteTime": {
     "end_time": "2024-06-06T14:59:28.787679Z",
     "start_time": "2024-06-06T14:59:28.785618Z"
    }
   },
   "cell_type": "code",
   "source": "print(response[\"context\"])",
   "id": "42ad488f743e240d",
   "outputs": [
    {
     "name": "stdout",
     "output_type": "stream",
     "text": [
      "[Document(page_content='ads. This new version introduces several new APIs to simplify the consent gathering process.Expanded mediation partners: We’ve broadened your ad monetization horizons by offering integrations with popular ad partners, including Unity, Meta, AppLovin, Iron Source, Mintegral, Pangle, DT Exchange, InMobi, and Liftoff. You can now maximize your app revenue with expanded mediation options and simplified implementation.We encourage you to try out these new features in your Flutter apps and let us know which other mediation partners you’d like to see us support. Your feedback is invaluable as we continue to enhance the Google Mobile Ads SDK for Flutter.Breaking Changes and DeprecationsRemoval of v1 Android embeddingDeletion of version one of the Android embedding is under way. This will likely have no effect on most apps, asVersion two has been the default for many yearsThe Flutter tool would already block building version one apps, unless specifically overridden with the flag -- ignore-deprecation.This release breaks Flutter tool support for v1 apps completely. It is no longer possible to override.Plugin authors, please note: when the v1 android embedding was initially deprecated a migration doc was written for plugin authors at https://docs.flutter.dev/release/breaking-changes/plugin-api-migration. As part of this migration, it was recommended that plugin authors keep support for apps using the v1 embedding, by including in their *Plugin.java a method with the signaturepublic static void registerWith(@NonNull io.flutter.plugin.common.PluginRegistry.Registrar registrar)We plan to fully delete the v1 Android embedding in the next release, at which point plugins that include a method with this signature will no longer compile (as it makes reference to a type from the v1 android embedding).It currently serves no purpose, as this release has broken apps using the v1 embedding. We recommend that plugin authors release updated versions of their plugins with the v1 code removed as soon as possible, to avoid breakage in future versions of Flutter. For an example, check out PR 6494, which removed the plugins maintained by the Flutter team.Deprecations removed in 3.22Breaking changes in this release include deprecated APIs that expired after the release of v3.19. To see all affected APIs, along with additional context and migration guidance, see the deprecation guide for this release. Many of these are supported by Flutter fix, including quick fixes in the IDE. Bulk fixes can be evaluated and applied with the dart fix command-line tool.As always, many thanks to the community for contributing tests — these help us identify these breaking changes. To learn more, check out Flutter’s breaking change policy.ConclusionAt the heart of Flutter’s success is you — our amazing community. This release wouldn’t be possible without your countless contributions and unwavering passion. From the bottom of our hearts, thank you.Ready to explore Flutter 3.22? Dive into the full release notes and changelog, fire up your terminal, and run flutter upgrade. We can’t wait to see what you build!FlutterFlutter App DevelopmentRelease Notes----22FollowWritten by Kevin Chisholm10.8K Followers·Writer for FlutterKevin Chisholm is a Technical Program Manager for Dart and Flutter at Google.FollowHelpStatusAboutCareersPressBlogPrivacyTermsText to speechTeams', metadata={'source': 'https://medium.com/flutter/whats-new-in-flutter-3-22-fbde6c164fe3', 'title': 'What’s new in Flutter 3.22. WebAssembly, Graphics rendering… | by Kevin Chisholm | Flutter | May, 2024 | Medium', 'description': 'Welcome back for another exciting Flutter stable release! This time, we’re thrilled to present Flutter 3.22. We’re bringing WebAssembly to the stable channel, a fully featured Vulkan backend for…', 'language': 'en'}), Document(page_content='handling, enhancing both usability and security.Covariants in 2D APIsReducing the need for type casts in 2D graphics APIs simplifies development workflows and enhances performance, important for games and complex animations.Flavor-conditional asset bundlingDevelopers using the flavors feature can now configure individual assets to be bundled only when building for a specific flavor. For more information, check out Conditionally bundling assets based on flavor.Transformation of assets using Dart packagesUsers can now configure Dart packages to transform their app’s assets as they are bundled. For more information, check out Transforming assets at built time.AndroidDeep linkingDeep links can significantly improve the user experience in your Flutter app, acting as shortcuts that seamlessly guide users to specific content within your app, boosting engagement, and driving sales. While Universal Links for iOS and App Links for Android are highly recommended for their security and user-friendly nature, setting them up can be a bit tricky.In the last Flutter stable release, we introduced a deep link validator tool within DevTools that supports checking web configuration for Android apps. In this version, we added a new set of features to help verify setups within your Android manifest files.For more information on using this tool, check out Validate deep links.Predictive back gestureFlutter now adds more support for Android’s upcoming predictive back feature, where users can peek at the previous route or even the previous app during a back gesture. This is still behind a feature flag on Android devices, but you can find details on how to try it out yourself on GitHub.Flutter tool enforces version requirements on Gradle, AGP, Java, and KotlinIn this release, the Flutter tool enforces a policy regarding the versions that it supports for Gradle, the Android Gradle Plugin (AGP), Java, and Kotlin. Initially, the tool only provides warnings.Currently, the supported version ranges are as follows:Gradle — Fully supported 7.0.2 to current, warn otherwiseAGP — Fully supported 7.0.0 to current, warn otherwiseJava — Fully supported Java 11 to current, warn otherwiseKotlin — Fully supported 1.5.0 to current, warn otherwiseIn the next major release these warnings will become errors, which can be overridden with the flag --android-skip-build-dependency-validation. More generally speaking, the tool provides a warning for at least one release before fully dropping support (generating an error) for a given version of these dependencies.This policy was discussed in an associated design spec. Comments and feedback are always welcome.Support for using Gradle Kotlin DSL in Gradle build scripts on AndroidGradle Kotlin DSL is now supported in Flutter, providing an alternative to the traditional Gradle Groovy DSL. This support allows for a better code editing experience, featuring auto-completion, quick access to documentation, source navigation, and context-aware refactoring.This initial support was contributed by GitHub user bartekpacia. Developers can now choose to rewrite their Gradle build scripts in Kotlin to take advantage of these benefits, although the Flutter tool doesn’t yet allow for selecting Kotlin over Groovy when using flutter create.For more details, check out the PR 140744 by bartekpacia.Platform views improvementsHeads up for all Flutter app developers! If you’re using Flutter to build apps that rely on native Android components (like maps, web views, or certain UI elements), we have some important news.Due to a bug in Android 14, apps built with older versions of Flutter might not work properly on devices running this new Android version.Flutter 3.22 fixes this issue and improves the overall performance of these native components in your Android apps. So, to ensure your app runs smoothly on all Android devices, make sure to rebuild and release your app with Flutter 3.22.This update also includes behind-the-scenes improvements to make', metadata={'source': 'https://medium.com/flutter/whats-new-in-flutter-3-22-fbde6c164fe3', 'title': 'What’s new in Flutter 3.22. WebAssembly, Graphics rendering… | by Kevin Chisholm | Flutter | May, 2024 | Medium', 'description': 'Welcome back for another exciting Flutter stable release! This time, we’re thrilled to present Flutter 3.22. We’re bringing WebAssembly to the stable channel, a fully featured Vulkan backend for…', 'language': 'en'}), Document(page_content='support Vulkan, Flutter will gracefully fall back automatically to using OpenGL ES with Skia. No action is necessary on your part. In the future, when we believe the OpenGL ES Impeller backend is production ready, this fallback will also use Impeller.As the Impeller preview on Android continues through the 3.22 stable cycle, we request that Flutter developers upgrade to the latest stable version, and file issues about any shortcomings noticed when Impeller is enabled. Feedback at this stage is invaluable to ensuring that Impeller is successful on Android and that we will be able to confidently make it the default renderer in a release later this year. The Android hardware ecosystem is very diverse. For that reason, the most helpful feedback about Impeller should include detailed information about the specific device and Android version where issues occurred.Blur performance improvementsBlur has been reimplemented in Impeller for both iOS and Android. In particular, the new approach, which is similar to Skia’s, reduces the CPU and GPU time of blurs by nearly half in benchmarks.The chart below shows worst-case, 99%-ile, 90%-ile, and average frame rasterization times and GPU frame times in ms on an iPhone 11 device in a pathological benchmark intended to highlight blur performance. After rewriting Impeller’s blur, both the CPU and GPU cost of backdrop filter blurs has been nearly halved. This scale of this improvement translates to non-pathological cases as well, as would appear in typical apps.99%-ile, 90%-ile and average frame rasterization times and GPU frame times in ms on an iPhone 11 device in a pathological benchmark intended to highlight blur performanceStencil-then-CoverImpeller on both iOS and Android has moved to a new rendering strategy based on the Stencil-then-Cover approach described in the chapter “Drawing Filled, Concave Polygons Using the Stencil Buffer” in the OpenGL Redbook. Team members discussed more on this technique as it applies to Flutter in GitHub issue #123671.This approach solves the issue where the raster thread was spending too much time calculating tessellations for complex paths on the CPU for example, SVGs and Lottie animations. After the change, the total frame time (UI thread on the CPU + raster thread on the CPU + GPU work) is much lower for frames that contain complex paths. Users will notice that Lottie animations and other complex paths render more smoothly, with lower CPU utilization, and slightly higher GPU utilization.(Left) A Lottie animation. Previously, Impeller on a recent iPhone took 64ms / frame of raster thread CPU time to render it. (Right) The same animation on the same device after we landed the Stencil-then-Cover optimization. Raster times are nearly 10x faster.While pleased with these improvements, there is still more work to do. Among other opportunities, we are aware that polyline generation remains prominent in CPU profiles, and we intend to investigate shifting this work to the GPU, as well.New APIWhile still experimental, flutter test now accepts the --enable-impeller flag, which exercises Impeller using the Vulkan backend.FrameworkWidget state propertiesMaterialState has been moved outside of the Material library and renamed WidgetState, in order to make it available to Cupertino, the base Flutter framework, and package authors. For more information on migrating to the new WidgetState, see the migration guide.Dynamic view sizingEnhancements to dynamic view sizing benefits developers building responsive layouts, ensuring better UI adaptability across various device screens.Improved form validationThanks to the contributions of Flutter community member SharbelOkzan, Flutter 3.22 comes with more flexible form validation methods allowing developers to create more robust user input handling, enhancing both usability and security.Covariants in 2D APIsReducing the need for type casts in 2D graphics APIs simplifies development workflows and enhances performance, important for', metadata={'source': 'https://medium.com/flutter/whats-new-in-flutter-3-22-fbde6c164fe3', 'title': 'What’s new in Flutter 3.22. WebAssembly, Graphics rendering… | by Kevin Chisholm | Flutter | May, 2024 | Medium', 'description': 'Welcome back for another exciting Flutter stable release! This time, we’re thrilled to present Flutter 3.22. We’re bringing WebAssembly to the stable channel, a fully featured Vulkan backend for…', 'language': 'en'}), Document(page_content='What’s new in Flutter 3.22. WebAssembly, Graphics rendering… | by Kevin Chisholm | Flutter | May, 2024 | MediumOpen in appSign upSign inWriteSign upSign inWhat’s new in Flutter 3.22WebAssembly, Graphics rendering enhancements, and more options for AI integrationKevin Chisholm·FollowPublished inFlutter·12 min read·May 14, 2024--22ListenShareWelcome back for another exciting Flutter stable release! This time, we’re thrilled to present Flutter 3.22. We’re bringing WebAssembly to the stable channel, a fully featured Vulkan backend for Impeller on Android, promising smoother graphics and a major performance boost. We’re also introducing streamlined workflows with new widget state properties, dynamic view sizing, and improved form validation. But that’s not all — you’ll find flavor-conditional asset bundling, a preview of Vertex AI for Firebase in Dart, and updated DevTools to make your life easier.In just a few months since our last update, we’ve merged an impressive 1595 pull requests from the Flutter community, with 37 new community members contributing to Flutter for the first time!So, dive in and discover all the new features and enhancements that the Flutter community has brought to this latest release!WebAssemblyWith the release of Flutter 3.22, Wasm is now available on the stable channel, offering significant performance improvements. In our internal benchmarks using Chrome on an M1 MacBook, the Wonderous app’s frame rendering time improved by 2x on average and 3x in worst-case scenarios.These enhancements are vital for apps with animations and rich transitions, where maintaining a smooth frame rate is essential. Wasm helps achieve this by reducing performance bottlenecks, resulting in smoother animations and transitions. To start using Wasm with your Flutter web apps, check out our Dart Wasm documentation and Flutter Wasm documentation. For the full announcement, visit the Flutter at Google I/O blog post.EngineFlutter 3.22 introduces significant updates to Impeller, the rendering engine that powers your Flutter applications. Key highlights include the completion of the Vulkan backend on Android for smoother graphics and improved performance, ongoing optimizations for blur effects and complex path rendering, and a new experimental API for testing with Impeller. In line with our roadmap, we’re committed to enhancing Impeller’s quality and performance, including completing the iOS migration to Impeller and expanding Android support.ImpellerVulkan backend feature complete on AndroidIn this release, Impeller’s Vulkan backend for Android is feature complete. In particular, in the past few months, the team has been hard at work completing the implementation of fast advanced blends, support for custom fragment shaders with the FragmentProgram API, PlatformView support (though it requires a small API migration), and fully implementing all blur styles.Android previewIn the 3.19 stable release, after releasing improvements in Impeller’s OpenGL backend, we invited users to try out Impeller on Android devices both with and without Vulkan support. Over the past few months, after evaluating the performance of the OpenGL backend and estimating the remaining work on the Vulkan backend, we have decided to focus our efforts on making the Vulkan backend production ready first.Impeller solves the issue of shader compilation jank. Additionally, in our benchmarks it outperforms the legacy renderer on average, 90th, and 99th percentile frame times. We therefore believe that the performance of the Vulkan backend on Android is acceptable. In this release (3.22), an app that opts-in to Impeller will use the Vulkan backend where available. In a future release, this will become the default. When an app that opts-in to Impeller runs on a device that doesn’t support Vulkan, Flutter will gracefully fall back automatically to using OpenGL ES with Skia. No action is necessary on your part. In the future, when we believe the OpenGL ES Impeller backend is', metadata={'source': 'https://medium.com/flutter/whats-new-in-flutter-3-22-fbde6c164fe3', 'title': 'What’s new in Flutter 3.22. WebAssembly, Graphics rendering… | by Kevin Chisholm | Flutter | May, 2024 | Medium', 'description': 'Welcome back for another exciting Flutter stable release! This time, we’re thrilled to present Flutter 3.22. We’re bringing WebAssembly to the stable channel, a fully featured Vulkan backend for…', 'language': 'en'})]\n"
     ]
    }
   ],
   "execution_count": 32
  }
 ],
 "metadata": {
  "kernelspec": {
   "display_name": "Python 3",
   "language": "python",
   "name": "python3"
  },
  "language_info": {
   "codemirror_mode": {
    "name": "ipython",
    "version": 2
   },
   "file_extension": ".py",
   "mimetype": "text/x-python",
   "name": "python",
   "nbconvert_exporter": "python",
   "pygments_lexer": "ipython2",
   "version": "2.7.6"
  }
 },
 "nbformat": 4,
 "nbformat_minor": 5
}
