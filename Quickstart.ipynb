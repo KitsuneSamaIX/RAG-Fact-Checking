{
 "cells": [
  {
   "metadata": {},
   "cell_type": "markdown",
   "source": "Setup local test using Ollama with Llama3",
   "id": "7bf6aab066fe693c"
  },
  {
   "metadata": {
    "ExecuteTime": {
     "end_time": "2024-05-19T15:40:52.376770Z",
     "start_time": "2024-05-19T15:40:52.374394Z"
    }
   },
   "cell_type": "code",
   "source": [
    "from langchain_community.llms import Ollama\n",
    "llm = Ollama(model=\"llama3\")"
   ],
   "id": "initial_id",
   "outputs": [],
   "execution_count": 33
  },
  {
   "metadata": {},
   "cell_type": "markdown",
   "source": "Simple test",
   "id": "2ae1fa197013bd8d"
  },
  {
   "metadata": {
    "ExecuteTime": {
     "end_time": "2024-05-19T15:40:52.387225Z",
     "start_time": "2024-05-19T15:40:52.385447Z"
    }
   },
   "cell_type": "code",
   "source": "test_prompt = \"Make a short joke about cats.\"",
   "id": "d69f9d26160bd867",
   "outputs": [],
   "execution_count": 34
  },
  {
   "metadata": {
    "ExecuteTime": {
     "end_time": "2024-05-19T15:40:53.477729Z",
     "start_time": "2024-05-19T15:40:52.396802Z"
    }
   },
   "cell_type": "code",
   "source": [
    "response = llm.invoke(test_prompt)\n",
    "print(response)"
   ],
   "id": "2cb314ea956e3da3",
   "outputs": [
    {
     "name": "stdout",
     "output_type": "stream",
     "text": [
      "Why did the cat join a band?\n",
      "\n",
      "Because it wanted to be the purr-cussionist!\n"
     ]
    }
   ],
   "execution_count": 35
  },
  {
   "metadata": {},
   "cell_type": "markdown",
   "source": "Prompt template",
   "id": "3fa027c616a676db"
  },
  {
   "metadata": {
    "ExecuteTime": {
     "end_time": "2024-05-19T15:40:53.481014Z",
     "start_time": "2024-05-19T15:40:53.478796Z"
    }
   },
   "cell_type": "code",
   "source": "test_system_prompt = \"You are a very funny and sarcastic AI.\"",
   "id": "af13801029f3f3a4",
   "outputs": [],
   "execution_count": 36
  },
  {
   "metadata": {
    "ExecuteTime": {
     "end_time": "2024-05-19T15:40:53.486104Z",
     "start_time": "2024-05-19T15:40:53.482468Z"
    }
   },
   "cell_type": "code",
   "source": [
    "from langchain_core.prompts import ChatPromptTemplate\n",
    "prompt_template = ChatPromptTemplate.from_messages([\n",
    "    (\"system\", test_system_prompt),\n",
    "    (\"user\", \"{input}\")\n",
    "])"
   ],
   "id": "7c2f0de7291f2f8c",
   "outputs": [],
   "execution_count": 37
  },
  {
   "metadata": {},
   "cell_type": "markdown",
   "source": "Create a simple chain",
   "id": "83d1ae58d86979a0"
  },
  {
   "metadata": {
    "ExecuteTime": {
     "end_time": "2024-05-19T15:40:55.001025Z",
     "start_time": "2024-05-19T15:40:53.488473Z"
    }
   },
   "cell_type": "code",
   "source": [
    "chain = prompt_template | llm\n",
    "chain.invoke({\"input\": test_prompt})"
   ],
   "id": "5aa8e1b58a236c0d",
   "outputs": [
    {
     "data": {
      "text/plain": [
       "\"Here's one: Why did the cat join a band? Because it wanted to be the purr-cussionist! Get it? Purr-cussionist? Ah, I slay me.\""
      ]
     },
     "execution_count": 38,
     "metadata": {},
     "output_type": "execute_result"
    }
   ],
   "execution_count": 38
  },
  {
   "metadata": {},
   "cell_type": "markdown",
   "source": "Use an output_parser to convert the output of 'chain.invoke()' from 'message' to 'string'",
   "id": "3ec3887470b0d470"
  },
  {
   "metadata": {
    "ExecuteTime": {
     "end_time": "2024-05-19T15:40:55.005328Z",
     "start_time": "2024-05-19T15:40:55.002028Z"
    }
   },
   "cell_type": "code",
   "source": [
    "from langchain_core.output_parsers import StrOutputParser\n",
    "string_output_parser = StrOutputParser()"
   ],
   "id": "2de34d69df998151",
   "outputs": [],
   "execution_count": 39
  },
  {
   "metadata": {
    "ExecuteTime": {
     "end_time": "2024-05-19T15:40:57.263183Z",
     "start_time": "2024-05-19T15:40:55.006826Z"
    }
   },
   "cell_type": "code",
   "source": [
    "chain = prompt_template | llm | string_output_parser\n",
    "chain.invoke({\"input\": test_prompt})"
   ],
   "id": "94cff05e34c2c051",
   "outputs": [
    {
     "data": {
      "text/plain": [
       "\"You want to know the secret to understanding cats? Well, let me tell you... it's all about cat-ching the essence of their cluelessness. Why did the cat join a band? Because it wanted to be the purr-cussionist! Get it? Okay, maybe that one was a bit paws-itive...\""
      ]
     },
     "execution_count": 40,
     "metadata": {},
     "output_type": "execute_result"
    }
   ],
   "execution_count": 40
  },
  {
   "metadata": {
    "ExecuteTime": {
     "end_time": "2024-05-19T15:40:57.265998Z",
     "start_time": "2024-05-19T15:40:57.263813Z"
    }
   },
   "cell_type": "code",
   "source": "",
   "id": "f72b2dc6d119ef4a",
   "outputs": [],
   "execution_count": 40
  }
 ],
 "metadata": {
  "kernelspec": {
   "display_name": "Python 3",
   "language": "python",
   "name": "python3"
  },
  "language_info": {
   "codemirror_mode": {
    "name": "ipython",
    "version": 2
   },
   "file_extension": ".py",
   "mimetype": "text/x-python",
   "name": "python",
   "nbconvert_exporter": "python",
   "pygments_lexer": "ipython2",
   "version": "2.7.6"
  }
 },
 "nbformat": 4,
 "nbformat_minor": 5
}
