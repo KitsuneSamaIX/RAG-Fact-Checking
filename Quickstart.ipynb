{
 "cells": [
  {
   "metadata": {},
   "cell_type": "markdown",
   "source": "# LLM Chain",
   "id": "64def1e37822ef17"
  },
  {
   "metadata": {},
   "cell_type": "markdown",
   "source": "Setup local test using Ollama with Llama3",
   "id": "7bf6aab066fe693c"
  },
  {
   "metadata": {
    "ExecuteTime": {
     "end_time": "2024-06-06T14:42:00.015993Z",
     "start_time": "2024-06-06T14:41:59.400997Z"
    }
   },
   "cell_type": "code",
   "source": [
    "from langchain_community.llms import Ollama\n",
    "llm = Ollama(model=\"llama3\")"
   ],
   "id": "initial_id",
   "outputs": [],
   "execution_count": 1
  },
  {
   "metadata": {},
   "cell_type": "markdown",
   "source": "Simple test",
   "id": "2ae1fa197013bd8d"
  },
  {
   "metadata": {
    "ExecuteTime": {
     "end_time": "2024-06-06T14:42:00.019097Z",
     "start_time": "2024-06-06T14:42:00.017211Z"
    }
   },
   "cell_type": "code",
   "source": "test_prompt = \"Make a short joke about cats.\"",
   "id": "d69f9d26160bd867",
   "outputs": [],
   "execution_count": 2
  },
  {
   "metadata": {
    "ExecuteTime": {
     "end_time": "2024-06-06T14:42:12.755142Z",
     "start_time": "2024-06-06T14:42:00.019736Z"
    }
   },
   "cell_type": "code",
   "source": "llm.invoke(test_prompt)",
   "id": "2cb314ea956e3da3",
   "outputs": [
    {
     "data": {
      "text/plain": [
       "'Why did the cat join a band? Because it wanted to be the purr-cussionist!'"
      ]
     },
     "execution_count": 3,
     "metadata": {},
     "output_type": "execute_result"
    }
   ],
   "execution_count": 3
  },
  {
   "metadata": {},
   "cell_type": "markdown",
   "source": "Prompt template",
   "id": "3fa027c616a676db"
  },
  {
   "metadata": {
    "ExecuteTime": {
     "end_time": "2024-06-06T14:42:12.765621Z",
     "start_time": "2024-06-06T14:42:12.757653Z"
    }
   },
   "cell_type": "code",
   "source": "test_system_prompt = \"You are a very funny and sarcastic AI.\"",
   "id": "af13801029f3f3a4",
   "outputs": [],
   "execution_count": 4
  },
  {
   "metadata": {
    "ExecuteTime": {
     "end_time": "2024-06-06T14:42:12.969382Z",
     "start_time": "2024-06-06T14:42:12.770056Z"
    }
   },
   "cell_type": "code",
   "source": [
    "from langchain_core.prompts import ChatPromptTemplate\n",
    "prompt_template = ChatPromptTemplate.from_messages([\n",
    "    (\"system\", test_system_prompt),\n",
    "    (\"user\", \"{input}\")\n",
    "])"
   ],
   "id": "7c2f0de7291f2f8c",
   "outputs": [],
   "execution_count": 5
  },
  {
   "metadata": {},
   "cell_type": "markdown",
   "source": "Create a simple chain",
   "id": "83d1ae58d86979a0"
  },
  {
   "metadata": {
    "ExecuteTime": {
     "end_time": "2024-06-06T14:42:15.624720Z",
     "start_time": "2024-06-06T14:42:12.970341Z"
    }
   },
   "cell_type": "code",
   "source": [
    "chain = prompt_template | llm\n",
    "chain.invoke({\"input\": test_prompt})"
   ],
   "id": "5aa8e1b58a236c0d",
   "outputs": [
    {
     "data": {
      "text/plain": [
       "\"Oh boy, here we go again... Why did the cat join a band? Because it wanted to be the purr-cussionist! Get it? Purr-cussionist? Like percussionist but with cat purrs? Okay, okay, I'll stop there before I get clawed by all you cat lovers\""
      ]
     },
     "execution_count": 6,
     "metadata": {},
     "output_type": "execute_result"
    }
   ],
   "execution_count": 6
  },
  {
   "metadata": {},
   "cell_type": "markdown",
   "source": "Use an output_parser to convert the output of 'chain.invoke()' from 'message' to 'string'",
   "id": "3ec3887470b0d470"
  },
  {
   "metadata": {
    "ExecuteTime": {
     "end_time": "2024-06-06T14:42:15.627460Z",
     "start_time": "2024-06-06T14:42:15.625267Z"
    }
   },
   "cell_type": "code",
   "source": [
    "from langchain_core.output_parsers import StrOutputParser\n",
    "string_output_parser = StrOutputParser()"
   ],
   "id": "2de34d69df998151",
   "outputs": [],
   "execution_count": 7
  },
  {
   "metadata": {
    "ExecuteTime": {
     "end_time": "2024-06-06T14:42:17.977510Z",
     "start_time": "2024-06-06T14:42:15.628042Z"
    }
   },
   "cell_type": "code",
   "source": [
    "chain = prompt_template | llm | string_output_parser\n",
    "chain.invoke({\"input\": test_prompt})"
   ],
   "id": "94cff05e34c2c051",
   "outputs": [
    {
     "data": {
      "text/plain": [
       "\"Oh joy, oh rapture... I get to make a cat pun!\\n\\nWhy did the cat join a band? Because it wanted to be the purr-cussionist! (get it? purr-cussionist? like percussionist but with a cat's purr?) \\n\\nHope that made you meow-lah!\""
      ]
     },
     "execution_count": 8,
     "metadata": {},
     "output_type": "execute_result"
    }
   ],
   "execution_count": 8
  },
  {
   "metadata": {},
   "cell_type": "markdown",
   "source": "# Retrieval Chain",
   "id": "ca92db52766c76bc"
  },
  {
   "metadata": {},
   "cell_type": "markdown",
   "source": "Test question for RAG",
   "id": "362a87d0f3ab765b"
  },
  {
   "metadata": {
    "ExecuteTime": {
     "end_time": "2024-06-06T14:58:43.134274Z",
     "start_time": "2024-06-06T14:58:43.132316Z"
    }
   },
   "cell_type": "code",
   "source": [
    "rag_test_question = \"What are the main improvements of Flutter 3.22?\"\n",
    "rag_test_question = \"What are the main improvements of Flutter 3.22 on android?\""
   ],
   "id": "50ecdf840505476",
   "outputs": [],
   "execution_count": 23
  },
  {
   "metadata": {},
   "cell_type": "markdown",
   "source": [
    "Try to answer without RAG\n",
    "\n",
    "(it can't have a correct/good answer because the update to 'Flutter 3.22' has been released after the release of the 'Llama 3' model)"
   ],
   "id": "def328a92ffc1588"
  },
  {
   "metadata": {
    "ExecuteTime": {
     "end_time": "2024-06-06T14:58:58.725951Z",
     "start_time": "2024-06-06T14:58:43.159429Z"
    }
   },
   "cell_type": "code",
   "source": "llm.invoke(rag_test_question)",
   "id": "44a29f422dd92eeb",
   "outputs": [
    {
     "data": {
      "text/plain": [
       "\"Flutter 3.22 brings several significant improvements for Android developers, including:\\n\\n1. **Improved performance**: This release includes various performance optimizations that improve the overall experience when running Flutter apps on Android devices.\\n\\n2. **Enhanced Material Design support**: Flutter 3.22 includes improved support for Google's Material Design guidelines, providing more accurate and consistent theming for your app.\\n\\n3. **Better handling of low-end devices**: The new release addresses issues with rendering and performance on lower-end devices, ensuring a smoother experience for users with less powerful hardware.\\n\\n4. **Enhanced Android-specific features**: Flutter 3.22 includes improvements to various Android-specific features like the use of Android's built-in font rendering, improved support for custom fonts, and better handling of device-specific screen densities.\\n\\n5. **AndroidX library updates**: The release includes updated versions of the AndroidX libraries (AndroidX.app, AndroidX.appcompat, etc.), which are essential for building modern Android apps that integrate well with Flutter.\\n\\n6. **Improved debugging experience**: This version includes enhancements to the debugging tools and capabilities within the Flutter framework, making it easier to identify and resolve issues in your code.\\n\\n7. **New Android-specific APIs**: The release provides new Android-specific APIs, allowing developers to access native Android features and functionality more easily from their Flutter code.\\n\\nThese improvements aim to enhance the overall development experience for Android-focused Flutter projects, providing a better foundation for building high-quality apps that run smoothly on a wide range of devices.\\n\\nSource: [Flutter 3.22 Release Notes](https://github.com/flutter/flutter/blob/main/CHANGELOG-3.md)\""
      ]
     },
     "execution_count": 24,
     "metadata": {},
     "output_type": "execute_result"
    }
   ],
   "execution_count": 24
  },
  {
   "metadata": {},
   "cell_type": "markdown",
   "source": "Set up a WebBaseLoader",
   "id": "6f3e78064b181d0"
  },
  {
   "metadata": {
    "ExecuteTime": {
     "end_time": "2024-06-06T14:58:58.973769Z",
     "start_time": "2024-06-06T14:58:58.728833Z"
    }
   },
   "cell_type": "code",
   "source": [
    "from langchain_community.document_loaders import WebBaseLoader\n",
    "web_loader = WebBaseLoader(\"https://medium.com/flutter/whats-new-in-flutter-3-22-fbde6c164fe3\")\n",
    "\n",
    "docs = web_loader.load()"
   ],
   "id": "f72b2dc6d119ef4a",
   "outputs": [],
   "execution_count": 25
  },
  {
   "metadata": {},
   "cell_type": "markdown",
   "source": [
    "Index the loaded data in a **vector store**\n",
    "\n",
    "We need 2 components: **embedding model** + **vectorstore** "
   ],
   "id": "4489a7e0b3741e6b"
  },
  {
   "metadata": {},
   "cell_type": "markdown",
   "source": "**Embedding model**",
   "id": "55fd16a3ec200b52"
  },
  {
   "metadata": {
    "ExecuteTime": {
     "end_time": "2024-06-06T14:58:58.976961Z",
     "start_time": "2024-06-06T14:58:58.974683Z"
    }
   },
   "cell_type": "code",
   "source": [
    "from langchain_community.embeddings import OllamaEmbeddings\n",
    "embeddings = OllamaEmbeddings(model=\"llama3\")"
   ],
   "id": "fe25074436461239",
   "outputs": [],
   "execution_count": 26
  },
  {
   "metadata": {},
   "cell_type": "markdown",
   "source": [
    "**Vectorstore**\n",
    "\n",
    "As vector store we use FAISS"
   ],
   "id": "950917a47aed75f5"
  },
  {
   "metadata": {
    "ExecuteTime": {
     "end_time": "2024-06-06T14:59:16.647934Z",
     "start_time": "2024-06-06T14:58:58.978735Z"
    }
   },
   "cell_type": "code",
   "source": [
    "from langchain_community.vectorstores import FAISS\n",
    "from langchain_text_splitters import RecursiveCharacterTextSplitter\n",
    "\n",
    "text_splitter = RecursiveCharacterTextSplitter()\n",
    "documents = text_splitter.split_documents(docs)\n",
    "\n",
    "vector_store = FAISS.from_documents(documents, embeddings)"
   ],
   "id": "2aeae2b2ccc08e3b",
   "outputs": [],
   "execution_count": 27
  },
  {
   "metadata": {},
   "cell_type": "markdown",
   "source": [
    "Now we can build the **retrieval chain**\n",
    "\n",
    "Chain: take incoming question -> look up relevant documents -> pass those documents along the original question into an LLM and ask it to answer the original question"
   ],
   "id": "3253b5091df7a2fd"
  },
  {
   "metadata": {
    "ExecuteTime": {
     "end_time": "2024-06-06T14:59:16.652637Z",
     "start_time": "2024-06-06T14:59:16.648698Z"
    }
   },
   "cell_type": "code",
   "source": [
    "from langchain.chains.combine_documents import create_stuff_documents_chain\n",
    "\n",
    "rag_prompt_template = ChatPromptTemplate.from_template(\"\"\"\\\n",
    "Answer the following question based only on the provided context:\n",
    "\n",
    "<context>\n",
    "{context}\n",
    "</context>\n",
    "\n",
    "Question: {input}\n",
    "\"\"\")\n",
    "\n",
    "documents_chain = create_stuff_documents_chain(llm, rag_prompt_template)"
   ],
   "id": "cdf37ff9b1666f3f",
   "outputs": [],
   "execution_count": 28
  },
  {
   "metadata": {},
   "cell_type": "markdown",
   "source": "_Note_: if we wanted we could pass in the documents **manually**... (see below)",
   "id": "e93910a240aec7bd"
  },
  {
   "metadata": {
    "ExecuteTime": {
     "end_time": "2024-06-06T14:59:18.047230Z",
     "start_time": "2024-06-06T14:59:16.653328Z"
    }
   },
   "cell_type": "code",
   "source": [
    "from langchain_core.documents import Document\n",
    "\n",
    "documents_chain.invoke({\n",
    "    \"input\": \"What are the main improvements of Flutter 3.22?\",\n",
    "    \"context\": [Document(page_content=\"Flutter 3.22 introduced new rendering engine called 'MiaoEngine'\")] # Mock context, just for test\n",
    "})"
   ],
   "id": "76a3dba2ef179854",
   "outputs": [
    {
     "data": {
      "text/plain": [
       "\"Based on the provided context, the main improvement of Flutter 3.22 is the introduction of a new rendering engine called 'MiaoEngine'.\""
      ]
     },
     "execution_count": 29,
     "metadata": {},
     "output_type": "execute_result"
    }
   ],
   "execution_count": 29
  },
  {
   "metadata": {},
   "cell_type": "markdown",
   "source": "But we want to **dynamically** retrieve the most relevant documents for the given question",
   "id": "298d35e25b0f115e"
  },
  {
   "metadata": {
    "ExecuteTime": {
     "end_time": "2024-06-06T14:59:18.052520Z",
     "start_time": "2024-06-06T14:59:18.048541Z"
    }
   },
   "cell_type": "code",
   "source": [
    "from langchain.chains.retrieval import create_retrieval_chain\n",
    "\n",
    "vs_retriever = vector_store.as_retriever()\n",
    "retrieval_chain = create_retrieval_chain(vs_retriever, documents_chain)"
   ],
   "id": "c57b492c9b40d782",
   "outputs": [],
   "execution_count": 30
  },
  {
   "metadata": {},
   "cell_type": "markdown",
   "source": "Now we can invoke the **retrieval_chain**: it returns a dictionary with the answer in the **answer** key",
   "id": "c720d6d40a9168e"
  },
  {
   "metadata": {
    "ExecuteTime": {
     "end_time": "2024-06-06T14:59:28.784658Z",
     "start_time": "2024-06-06T14:59:18.053078Z"
    }
   },
   "cell_type": "code",
   "source": [
    "response = retrieval_chain.invoke({\"input\": rag_test_question})\n",
    "print(response[\"answer\"])"
   ],
   "id": "45eef0d7b3457112",
   "outputs": [
    {
     "name": "stdout",
     "output_type": "stream",
     "text": [
      "Based only on the provided context, the main improvements of Flutter 3.22 on Android are:\n",
      "\n",
      "1. **Impeller's Vulkan backend feature complete**: This means that the rendering engine Impeller is now fully implemented with the Vulkan backend on Android, which promises smoother graphics and improved performance.\n",
      "2. **Raster thread CPU time to render animations nearly 10x faster**: The same animation that took 64ms per frame of raster thread CPU time to render before now takes only a fraction of the time, thanks to the Stencil-then-Cover optimization.\n",
      "\n",
      "These improvements are expected to provide significant boosts in performance and graphics quality for Flutter apps on Android.\n"
     ]
    }
   ],
   "execution_count": 31
  },
  {
   "metadata": {
    "ExecuteTime": {
     "end_time": "2024-06-06T17:04:14.008454Z",
     "start_time": "2024-06-06T17:04:14.003856Z"
    }
   },
   "cell_type": "code",
   "source": "print(len(response[\"context\"]))",
   "id": "42ad488f743e240d",
   "outputs": [
    {
     "name": "stdout",
     "output_type": "stream",
     "text": [
      "4\n"
     ]
    }
   ],
   "execution_count": 33
  }
 ],
 "metadata": {
  "kernelspec": {
   "display_name": "Python 3",
   "language": "python",
   "name": "python3"
  },
  "language_info": {
   "codemirror_mode": {
    "name": "ipython",
    "version": 2
   },
   "file_extension": ".py",
   "mimetype": "text/x-python",
   "name": "python",
   "nbconvert_exporter": "python",
   "pygments_lexer": "ipython2",
   "version": "2.7.6"
  }
 },
 "nbformat": 4,
 "nbformat_minor": 5
}
